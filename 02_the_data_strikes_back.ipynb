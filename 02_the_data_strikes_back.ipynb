{
  "nbformat": 4,
  "nbformat_minor": 0,
  "metadata": {
    "colab": {
      "private_outputs": true,
      "provenance": [],
      "authorship_tag": "ABX9TyNfuWjte61AV13bOwaoyuie",
      "include_colab_link": true
    },
    "kernelspec": {
      "name": "python3",
      "display_name": "Python 3"
    },
    "language_info": {
      "name": "python"
    },
    "accelerator": "GPU",
    "gpuClass": "standard"
  },
  "cells": [
    {
      "cell_type": "markdown",
      "metadata": {
        "id": "view-in-github",
        "colab_type": "text"
      },
      "source": [
        "<a href=\"https://colab.research.google.com/github/ssundar6087/practically_building_an_image_classifier/blob/main/02_the_data_strikes_back.ipynb\" target=\"_parent\"><img src=\"https://colab.research.google.com/assets/colab-badge.svg\" alt=\"Open In Colab\"/></a>"
      ]
    },
    {
      "cell_type": "code",
      "execution_count": null,
      "metadata": {
        "id": "4rUJC9sFRZJ-"
      },
      "outputs": [],
      "source": [
        "from fastai.vision.all import *"
      ]
    },
    {
      "cell_type": "code",
      "source": [
        "path = untar_data(URLs.PETS)"
      ],
      "metadata": {
        "id": "ZIYEYOtAb8x9"
      },
      "execution_count": null,
      "outputs": []
    },
    {
      "cell_type": "code",
      "source": [
        "path.ls()"
      ],
      "metadata": {
        "id": "Q2Lipqz5cdx9"
      },
      "execution_count": null,
      "outputs": []
    },
    {
      "cell_type": "code",
      "source": [
        "fname = (path/\"images\").ls()[0]\n",
        "fname.name"
      ],
      "metadata": {
        "id": "bnzZGhQRcF7o"
      },
      "execution_count": null,
      "outputs": []
    },
    {
      "cell_type": "code",
      "source": [
        "files = get_image_files(path/\"images\")\n",
        "len(files)"
      ],
      "metadata": {
        "id": "3eynYdDJkHG7"
      },
      "execution_count": null,
      "outputs": []
    },
    {
      "cell_type": "code",
      "source": [
        "def labeler(f):\n",
        "  return f[0].isupper()"
      ],
      "metadata": {
        "id": "_97HO3zbj4ce"
      },
      "execution_count": null,
      "outputs": []
    },
    {
      "cell_type": "code",
      "source": [
        "cats = len([x for x in files if labeler(x.name)])\n",
        "dogs = len([x for x in files if not labeler(x.name)])"
      ],
      "metadata": {
        "id": "XTtOR_pz1-Ix"
      },
      "execution_count": null,
      "outputs": []
    },
    {
      "cell_type": "code",
      "source": [
        "cats, dogs, cats + dogs"
      ],
      "metadata": {
        "id": "sdV01CUJ4q_6"
      },
      "execution_count": null,
      "outputs": []
    },
    {
      "cell_type": "code",
      "source": [
        "(cats / (cats + dogs)) * 100, (dogs / (dogs + cats)) * 100"
      ],
      "metadata": {
        "id": "sjIC9S_fSrow"
      },
      "execution_count": null,
      "outputs": []
    },
    {
      "cell_type": "code",
      "source": [
        "dls = ImageDataLoaders.from_name_func(path, files, labeler, item_tfms=Resize(224))"
      ],
      "metadata": {
        "id": "r10VpRxNcKdp"
      },
      "execution_count": null,
      "outputs": []
    },
    {
      "cell_type": "markdown",
      "source": [
        "## Verify Dataloading\n",
        "- Cats = True\n",
        "- Dogs = False"
      ],
      "metadata": {
        "id": "liI8JdRefLua"
      }
    },
    {
      "cell_type": "code",
      "source": [
        "dls.show_batch(nrows=3,ncols=6)"
      ],
      "metadata": {
        "id": "Tmcf_mkmiGB0"
      },
      "execution_count": null,
      "outputs": []
    },
    {
      "cell_type": "code",
      "source": [
        "def class_counter(dset):\n",
        "  cat_cntr = len([l.item() for _, l in dset if l.item() == 1])\n",
        "  dog_cntr = len([l.item() for _, l in dset if l.item() == 0])\n",
        "  return cat_cntr, dog_cntr\n"
      ],
      "metadata": {
        "id": "2CKCPAbH7yzZ"
      },
      "execution_count": null,
      "outputs": []
    },
    {
      "cell_type": "code",
      "source": [
        "val_ds = dls.valid_ds\n",
        "train_ds = dls.train_ds\n",
        "train_cats, train_dogs = class_counter(train_ds)\n",
        "val_cats, val_dogs = class_counter(val_ds)\n",
        "\n",
        "print(train_cats)\n",
        "print(train_dogs)\n",
        "print(val_cats)\n",
        "print(val_dogs)\n",
        "print(train_cats + val_cats)\n",
        "print(train_dogs + val_dogs)\n",
        "print(train_cats / (train_cats + val_cats))\n",
        "print(train_dogs / (train_dogs + val_dogs))\n",
        "print(val_cats / (train_cats + val_cats))\n",
        "print(val_dogs / (train_dogs + val_dogs))"
      ],
      "metadata": {
        "id": "vehJo8bV6vgz"
      },
      "execution_count": null,
      "outputs": []
    },
    {
      "cell_type": "markdown",
      "source": [
        "## Baseline Scores with a Simple Model"
      ],
      "metadata": {
        "id": "f2CdzZoT_M_k"
      }
    },
    {
      "cell_type": "code",
      "source": [
        "learn = vision_learner(dls, resnet18, pretrained=False, metrics=[error_rate, accuracy, Precision(), Recall()])"
      ],
      "metadata": {
        "id": "cis2h0rmkRDZ"
      },
      "execution_count": null,
      "outputs": []
    },
    {
      "cell_type": "code",
      "source": [
        "images, labels = dls.one_batch()"
      ],
      "metadata": {
        "id": "ySjTqFdOALfN"
      },
      "execution_count": null,
      "outputs": []
    },
    {
      "cell_type": "code",
      "source": [
        "preds, _ = learn.get_preds(dl=[(images, labels)])"
      ],
      "metadata": {
        "id": "IPg-iIKwAPPd"
      },
      "execution_count": null,
      "outputs": []
    },
    {
      "cell_type": "code",
      "source": [
        "preds[0], preds[0].sum()"
      ],
      "metadata": {
        "id": "cvpNgFypAXVR"
      },
      "execution_count": null,
      "outputs": []
    },
    {
      "cell_type": "code",
      "source": [
        "learn.fit(n_epoch=20, lr=1e-3, cbs=ShowGraphCallback())"
      ],
      "metadata": {
        "id": "3knUiYFGAZo6"
      },
      "execution_count": null,
      "outputs": []
    },
    {
      "cell_type": "markdown",
      "source": [
        "### Interpret Results"
      ],
      "metadata": {
        "id": "7hxIVpywB-9n"
      }
    },
    {
      "cell_type": "code",
      "source": [
        "interp = ClassificationInterpretation.from_learner(learn)\n",
        "interp.plot_confusion_matrix()"
      ],
      "metadata": {
        "id": "oFQjvMkpA86I"
      },
      "execution_count": null,
      "outputs": []
    },
    {
      "cell_type": "code",
      "source": [
        "interp.plot_top_losses(16)"
      ],
      "metadata": {
        "id": "tKiV7kJpCIV0"
      },
      "execution_count": null,
      "outputs": []
    },
    {
      "cell_type": "markdown",
      "source": [
        "## Pretrained Model - Transfer Learning"
      ],
      "metadata": {
        "id": "mhGLeF8qCf6q"
      }
    },
    {
      "cell_type": "code",
      "source": [
        "pre_learn = vision_learner(dls, resnet18, metrics=[error_rate, accuracy, Precision(), Recall()])"
      ],
      "metadata": {
        "id": "KOCTAerhCYUG"
      },
      "execution_count": null,
      "outputs": []
    },
    {
      "cell_type": "code",
      "source": [
        "pre_learn.fine_tune(epochs=20, base_lr=1e-3, cbs=ShowGraphCallback())"
      ],
      "metadata": {
        "id": "A4M_VL7UCpyV"
      },
      "execution_count": null,
      "outputs": []
    },
    {
      "cell_type": "markdown",
      "source": [
        "### Interpret Results"
      ],
      "metadata": {
        "id": "5QJ6q_rRDzmu"
      }
    },
    {
      "cell_type": "code",
      "source": [
        "interp = ClassificationInterpretation.from_learner(pre_learn)\n",
        "interp.plot_confusion_matrix()"
      ],
      "metadata": {
        "id": "4czVSolaCxWu"
      },
      "execution_count": null,
      "outputs": []
    },
    {
      "cell_type": "code",
      "source": [
        "interp.plot_top_losses(16)"
      ],
      "metadata": {
        "id": "d3fz3OQID4BU"
      },
      "execution_count": null,
      "outputs": []
    },
    {
      "cell_type": "markdown",
      "source": [
        "## Cleaning Data"
      ],
      "metadata": {
        "id": "af7OmW2CE1TV"
      }
    },
    {
      "cell_type": "code",
      "source": [
        "from fastai.vision.widgets import *"
      ],
      "metadata": {
        "id": "qqUViOYeFbIL"
      },
      "execution_count": null,
      "outputs": []
    },
    {
      "cell_type": "code",
      "source": [
        "cleaner = ImageClassifierCleaner(pre_learn)"
      ],
      "metadata": {
        "id": "DbB6j4z9EYpz"
      },
      "execution_count": null,
      "outputs": []
    },
    {
      "cell_type": "code",
      "source": [
        "cleaner"
      ],
      "metadata": {
        "id": "A0f04Y0LFPR2"
      },
      "execution_count": null,
      "outputs": []
    },
    {
      "cell_type": "markdown",
      "source": [
        "## App"
      ],
      "metadata": {
        "id": "h_l9avb6bL88"
      }
    },
    {
      "cell_type": "code",
      "source": [
        "uploader = widgets.FileUpload()\n",
        "uploader"
      ],
      "metadata": {
        "id": "CSQPiBR8bNe5"
      },
      "execution_count": null,
      "outputs": []
    },
    {
      "cell_type": "code",
      "source": [
        "img = PILImage.create(uploader.data[0])\n",
        "is_cat,_,probs = learn.predict(img)\n",
        "out = \"cat\" if is_cat == True else \"dog\"\n",
        "prob = probs[1].item() if is_cat == True else probs[0].item()\n",
        "print(f\"It's a {out} with probability {prob:.3f}\")\n"
      ],
      "metadata": {
        "id": "CVyslOumbVCZ"
      },
      "execution_count": null,
      "outputs": []
    },
    {
      "cell_type": "code",
      "source": [
        "probs, is_cat"
      ],
      "metadata": {
        "id": "Om0xIcMVeH9k"
      },
      "execution_count": null,
      "outputs": []
    },
    {
      "cell_type": "code",
      "source": [],
      "metadata": {
        "id": "CmPpZZ18ezr0"
      },
      "execution_count": null,
      "outputs": []
    }
  ]
}