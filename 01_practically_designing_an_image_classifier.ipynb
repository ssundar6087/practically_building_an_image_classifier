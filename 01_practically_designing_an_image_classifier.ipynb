{
  "nbformat": 4,
  "nbformat_minor": 0,
  "metadata": {
    "colab": {
      "private_outputs": true,
      "provenance": [],
      "authorship_tag": "ABX9TyMjuNIXqhudQdjAiA6KX9L2",
      "include_colab_link": true
    },
    "kernelspec": {
      "name": "python3",
      "display_name": "Python 3"
    },
    "language_info": {
      "name": "python"
    },
    "accelerator": "GPU",
    "gpuClass": "standard"
  },
  "cells": [
    {
      "cell_type": "markdown",
      "metadata": {
        "id": "view-in-github",
        "colab_type": "text"
      },
      "source": [
        "<a href=\"https://colab.research.google.com/github/ssundar6087/practically_building_an_image_classifier/blob/main/01_practically_designing_an_image_classifier.ipynb\" target=\"_parent\"><img src=\"https://colab.research.google.com/assets/colab-badge.svg\" alt=\"Open In Colab\"/></a>"
      ]
    },
    {
      "cell_type": "code",
      "execution_count": null,
      "metadata": {
        "id": "4rUJC9sFRZJ-"
      },
      "outputs": [],
      "source": [
        "from fastai.vision.all import *"
      ]
    },
    {
      "cell_type": "code",
      "source": [
        "path = untar_data(URLs.PETS)"
      ],
      "metadata": {
        "id": "ZIYEYOtAb8x9"
      },
      "execution_count": null,
      "outputs": []
    },
    {
      "cell_type": "code",
      "source": [
        "path.ls()"
      ],
      "metadata": {
        "id": "Q2Lipqz5cdx9"
      },
      "execution_count": null,
      "outputs": []
    },
    {
      "cell_type": "code",
      "source": [
        "fname = (path/\"images\").ls()[0]\n",
        "fname.name"
      ],
      "metadata": {
        "id": "bnzZGhQRcF7o"
      },
      "execution_count": null,
      "outputs": []
    },
    {
      "cell_type": "code",
      "source": [
        "files = get_image_files(path/\"images\")\n",
        "len(files)"
      ],
      "metadata": {
        "id": "3eynYdDJkHG7"
      },
      "execution_count": null,
      "outputs": []
    },
    {
      "cell_type": "code",
      "source": [
        "def labeler(f):\n",
        "  return f[0].isupper()"
      ],
      "metadata": {
        "id": "_97HO3zbj4ce"
      },
      "execution_count": null,
      "outputs": []
    },
    {
      "cell_type": "code",
      "source": [
        "dls = ImageDataLoaders.from_name_func(path, files, labeler, item_tfms=Resize(224))"
      ],
      "metadata": {
        "id": "r10VpRxNcKdp"
      },
      "execution_count": null,
      "outputs": []
    },
    {
      "cell_type": "markdown",
      "source": [
        "## Verify Dataloading\n",
        "- Cats = True\n",
        "- Dogs = False"
      ],
      "metadata": {
        "id": "liI8JdRefLua"
      }
    },
    {
      "cell_type": "code",
      "source": [
        "dls.show_batch(nrows=3,ncols=6)"
      ],
      "metadata": {
        "id": "Tmcf_mkmiGB0"
      },
      "execution_count": null,
      "outputs": []
    },
    {
      "cell_type": "markdown",
      "source": [
        "## Baseline Scores with a Simple Model"
      ],
      "metadata": {
        "id": "f2CdzZoT_M_k"
      }
    },
    {
      "cell_type": "code",
      "source": [
        "learn = vision_learner(dls, resnet18, pretrained=False, metrics=[error_rate, accuracy]);"
      ],
      "metadata": {
        "id": "cis2h0rmkRDZ"
      },
      "execution_count": null,
      "outputs": []
    },
    {
      "cell_type": "code",
      "source": [
        "images, labels = dls.one_batch()"
      ],
      "metadata": {
        "id": "ySjTqFdOALfN"
      },
      "execution_count": null,
      "outputs": []
    },
    {
      "cell_type": "code",
      "source": [
        "preds, _ = learn.get_preds(dl=[(images, labels)])"
      ],
      "metadata": {
        "id": "IPg-iIKwAPPd"
      },
      "execution_count": null,
      "outputs": []
    },
    {
      "cell_type": "code",
      "source": [
        "preds[0], preds[0].sum()"
      ],
      "metadata": {
        "id": "cvpNgFypAXVR"
      },
      "execution_count": null,
      "outputs": []
    },
    {
      "cell_type": "code",
      "source": [
        "learn.fit(n_epoch=10, lr=1e-3, cbs=ShowGraphCallback())"
      ],
      "metadata": {
        "id": "3knUiYFGAZo6"
      },
      "execution_count": null,
      "outputs": []
    },
    {
      "cell_type": "markdown",
      "source": [
        "### Interpret Results"
      ],
      "metadata": {
        "id": "7hxIVpywB-9n"
      }
    },
    {
      "cell_type": "code",
      "source": [
        "interp = ClassificationInterpretation.from_learner(learn)\n",
        "interp.plot_confusion_matrix()"
      ],
      "metadata": {
        "id": "oFQjvMkpA86I"
      },
      "execution_count": null,
      "outputs": []
    },
    {
      "cell_type": "code",
      "source": [
        "interp.plot_top_losses(10)"
      ],
      "metadata": {
        "id": "tKiV7kJpCIV0"
      },
      "execution_count": null,
      "outputs": []
    },
    {
      "cell_type": "markdown",
      "source": [
        "## Pretrained Model - Transfer Learning"
      ],
      "metadata": {
        "id": "mhGLeF8qCf6q"
      }
    },
    {
      "cell_type": "code",
      "source": [
        "pre_learn = vision_learner(dls, resnet18, metrics=[error_rate, accuracy]);"
      ],
      "metadata": {
        "id": "KOCTAerhCYUG"
      },
      "execution_count": null,
      "outputs": []
    },
    {
      "cell_type": "code",
      "source": [
        "pre_learn.fit(n_epoch=10, lr=1e-3, cbs=ShowGraphCallback())"
      ],
      "metadata": {
        "id": "A4M_VL7UCpyV"
      },
      "execution_count": null,
      "outputs": []
    },
    {
      "cell_type": "markdown",
      "source": [
        "### Interpret Results"
      ],
      "metadata": {
        "id": "5QJ6q_rRDzmu"
      }
    },
    {
      "cell_type": "code",
      "source": [
        "interp = ClassificationInterpretation.from_learner(pre_learn)\n",
        "interp.plot_confusion_matrix()"
      ],
      "metadata": {
        "id": "4czVSolaCxWu"
      },
      "execution_count": null,
      "outputs": []
    },
    {
      "cell_type": "code",
      "source": [
        "interp.plot_top_losses(10)"
      ],
      "metadata": {
        "id": "d3fz3OQID4BU"
      },
      "execution_count": null,
      "outputs": []
    }
  ]
}